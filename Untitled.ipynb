{
 "cells": [
  {
   "cell_type": "code",
   "execution_count": 1,
   "id": "f7c52c21-02e8-4624-8f0b-1f1b48c648ad",
   "metadata": {},
   "outputs": [],
   "source": [
    "import numpy as np\n",
    "from io import BytesIO\n",
    "from PIL import Image\n",
    "import base64\n",
    "import io\n",
    "import PIL\n",
    "import tensorflow as tf"
   ]
  },
  {
   "cell_type": "code",
   "execution_count": 2,
   "id": "ffc09aa1-5ba1-4215-ba6e-67d830e7276f",
   "metadata": {},
   "outputs": [
    {
     "ename": "FileNotFoundError",
     "evalue": "[Errno 2] No such file or directory: './uploads/0a0744dc-8486-4fbb-a44b-4d63e6db6197___RS_Early.B 7575.JPG'",
     "output_type": "error",
     "traceback": [
      "\u001b[1;31m---------------------------------------------------------------------------\u001b[0m",
      "\u001b[1;31mFileNotFoundError\u001b[0m                         Traceback (most recent call last)",
      "\u001b[1;32m~\\AppData\\Local\\Temp/ipykernel_10256/731942659.py\u001b[0m in \u001b[0;36m<module>\u001b[1;34m\u001b[0m\n\u001b[1;32m----> 1\u001b[1;33m \u001b[0mimage\u001b[0m \u001b[1;33m=\u001b[0m \u001b[0mPIL\u001b[0m\u001b[1;33m.\u001b[0m\u001b[0mImage\u001b[0m\u001b[1;33m.\u001b[0m\u001b[0mopen\u001b[0m\u001b[1;33m(\u001b[0m\u001b[1;34m'./uploads/0a0744dc-8486-4fbb-a44b-4d63e6db6197___RS_Early.B 7575.JPG'\u001b[0m\u001b[1;33m)\u001b[0m\u001b[1;33m\u001b[0m\u001b[1;33m\u001b[0m\u001b[0m\n\u001b[0m\u001b[0;32m      2\u001b[0m \u001b[0mimg\u001b[0m \u001b[1;33m=\u001b[0m \u001b[0mnp\u001b[0m\u001b[1;33m.\u001b[0m\u001b[0marray\u001b[0m\u001b[1;33m(\u001b[0m\u001b[0mimage\u001b[0m\u001b[1;33m)\u001b[0m\u001b[1;33m\u001b[0m\u001b[1;33m\u001b[0m\u001b[0m\n\u001b[0;32m      3\u001b[0m \u001b[0mimg_batch\u001b[0m \u001b[1;33m=\u001b[0m \u001b[0mnp\u001b[0m\u001b[1;33m.\u001b[0m\u001b[0mexpand_dims\u001b[0m\u001b[1;33m(\u001b[0m\u001b[0mimg\u001b[0m\u001b[1;33m,\u001b[0m \u001b[1;36m0\u001b[0m\u001b[1;33m)\u001b[0m\u001b[1;33m\u001b[0m\u001b[1;33m\u001b[0m\u001b[0m\n\u001b[0;32m      4\u001b[0m \u001b[0mprint\u001b[0m\u001b[1;33m(\u001b[0m\u001b[0mimg_batch\u001b[0m\u001b[1;33m)\u001b[0m\u001b[1;33m\u001b[0m\u001b[1;33m\u001b[0m\u001b[0m\n\u001b[0;32m      5\u001b[0m \u001b[0mlen\u001b[0m\u001b[1;33m(\u001b[0m\u001b[0mimg_batch\u001b[0m\u001b[1;33m)\u001b[0m\u001b[1;33m\u001b[0m\u001b[1;33m\u001b[0m\u001b[0m\n",
      "\u001b[1;32m~\\anaconda3\\lib\\site-packages\\PIL\\Image.py\u001b[0m in \u001b[0;36mopen\u001b[1;34m(fp, mode, formats)\u001b[0m\n\u001b[0;32m   2973\u001b[0m \u001b[1;33m\u001b[0m\u001b[0m\n\u001b[0;32m   2974\u001b[0m     \u001b[1;32mif\u001b[0m \u001b[0mfilename\u001b[0m\u001b[1;33m:\u001b[0m\u001b[1;33m\u001b[0m\u001b[1;33m\u001b[0m\u001b[0m\n\u001b[1;32m-> 2975\u001b[1;33m         \u001b[0mfp\u001b[0m \u001b[1;33m=\u001b[0m \u001b[0mbuiltins\u001b[0m\u001b[1;33m.\u001b[0m\u001b[0mopen\u001b[0m\u001b[1;33m(\u001b[0m\u001b[0mfilename\u001b[0m\u001b[1;33m,\u001b[0m \u001b[1;34m\"rb\"\u001b[0m\u001b[1;33m)\u001b[0m\u001b[1;33m\u001b[0m\u001b[1;33m\u001b[0m\u001b[0m\n\u001b[0m\u001b[0;32m   2976\u001b[0m         \u001b[0mexclusive_fp\u001b[0m \u001b[1;33m=\u001b[0m \u001b[1;32mTrue\u001b[0m\u001b[1;33m\u001b[0m\u001b[1;33m\u001b[0m\u001b[0m\n\u001b[0;32m   2977\u001b[0m \u001b[1;33m\u001b[0m\u001b[0m\n",
      "\u001b[1;31mFileNotFoundError\u001b[0m: [Errno 2] No such file or directory: './uploads/0a0744dc-8486-4fbb-a44b-4d63e6db6197___RS_Early.B 7575.JPG'"
     ]
    }
   ],
   "source": [
    "image = PIL.Image.open('./uploads/0a0744dc-8486-4fbb-a44b-4d63e6db6197___RS_Early.B 7575.JPG')\n",
    "img = np.array(image)\n",
    "img_batch = np.expand_dims(img, 0)\n",
    "print(img_batch)\n",
    "len(img_batch)"
   ]
  },
  {
   "cell_type": "code",
   "execution_count": 35,
   "id": "fa49f82c-c1b4-4e96-a306-835060dce7f4",
   "metadata": {},
   "outputs": [],
   "source": [
    "img = tf.keras.utils.load_img(\n",
    "    './uploads/0a0744dc-8486-4fbb-a44b-4d63e6db6197___RS_Early.B 7575.JPG', target_size=(256, 256)\n",
    ")\n",
    "img_array = tf.keras.utils.img_to_array(img)\n",
    "img_array = tf.expand_dims(img_array, 0)"
   ]
  },
  {
   "cell_type": "code",
   "execution_count": 36,
   "id": "fde484d7-f00e-4178-8ed5-c8aaedfd8d3e",
   "metadata": {},
   "outputs": [
    {
     "name": "stdout",
     "output_type": "stream",
     "text": [
      "WARNING:tensorflow:Detecting that an object or model or tf.train.Checkpoint is being deleted with unrestored values. See the following logs for the specific values in question. To silence these warnings, use `status.expect_partial()`. See https://www.tensorflow.org/api_docs/python/tf/train/Checkpoint#restorefor details about the status object returned by the restore function.\n",
      "WARNING:tensorflow:Value in checkpoint could not be found in the restored object: (root).layer-1.layer-0._random_generator._generator._state_var\n",
      "WARNING:tensorflow:Value in checkpoint could not be found in the restored object: (root).layer-1.layer-1._random_generator._generator._state_var\n",
      "WARNING:tensorflow:Detecting that an object or model or tf.train.Checkpoint is being deleted with unrestored values. See the following logs for the specific values in question. To silence these warnings, use `status.expect_partial()`. See https://www.tensorflow.org/api_docs/python/tf/train/Checkpoint#restorefor details about the status object returned by the restore function.\n",
      "WARNING:tensorflow:Value in checkpoint could not be found in the restored object: (root).layer-1.layer-0._random_generator._generator._state_var\n",
      "WARNING:tensorflow:Value in checkpoint could not be found in the restored object: (root).layer-1.layer-1._random_generator._generator._state_var\n",
      "WARNING:tensorflow:6 out of the last 6 calls to <function Model.make_predict_function.<locals>.predict_function at 0x0000019A4855DDC0> triggered tf.function retracing. Tracing is expensive and the excessive number of tracings could be due to (1) creating @tf.function repeatedly in a loop, (2) passing tensors with different shapes, (3) passing Python objects instead of tensors. For (1), please define your @tf.function outside of the loop. For (2), @tf.function has reduce_retracing=True option that can avoid unnecessary retracing. For (3), please refer to https://www.tensorflow.org/guide/function#controlling_retracing and https://www.tensorflow.org/api_docs/python/tf/function for  more details.\n",
      "1/1 [==============================] - 0s 171ms/step\n",
      "[[9.9999797e-01 2.0163538e-06 6.9978160e-12 4.7882468e-14 1.9393093e-16\n",
      "  1.4785102e-15 2.5590941e-15 1.9253034e-13 1.5440899e-15 1.1651669e-15\n",
      "  3.6843379e-14 1.5613788e-16 1.0808432e-15 3.7490881e-14 3.3530892e-16\n",
      "  2.8475232e-15 8.1833505e-16 6.1468408e-16 1.9403214e-14 7.4014152e-14\n",
      "  1.6838225e-15 1.0562774e-14 9.7853422e-15 9.9614971e-14 1.7576784e-14\n",
      "  4.7960435e-14 3.6519511e-18 1.6491527e-14 1.8973866e-16 3.3257914e-15\n",
      "  1.6187287e-16 1.2534886e-16 7.3092269e-15 4.2330993e-14 1.7749079e-13\n",
      "  6.0452906e-16 2.5681766e-17 1.7352337e-14 4.7646418e-18 5.8240712e-14\n",
      "  6.0988693e-15 6.5052686e-14 9.8401003e-16 8.9339758e-18 1.9158102e-15\n",
      "  2.9394221e-18 1.6542049e-15 1.3873901e-16 4.9179017e-15 9.1416634e-16\n",
      "  1.3629770e-15 3.4871931e-16 1.7137406e-16 2.7045185e-16 4.6541316e-16\n",
      "  1.3639815e-14 6.4334172e-14 3.4063198e-17 3.0121533e-15 7.1238029e-15\n",
      "  8.7588802e-16 6.8834530e-16 3.7400848e-16 3.3523440e-18]]\n"
     ]
    }
   ],
   "source": [
    "MODEL = tf.keras.models.load_model(\"./models/3\")\n",
    "pred = MODEL.predict(img_array)\n",
    "print(pred)"
   ]
  },
  {
   "cell_type": "code",
   "execution_count": 37,
   "id": "881a858b-02d2-4db4-bada-9073cea2aafc",
   "metadata": {},
   "outputs": [
    {
     "name": "stdout",
     "output_type": "stream",
     "text": [
      "1/1 [==============================] - 0s 199ms/step\n",
      "[[9.9999797e-01 2.0163538e-06 6.9978160e-12 4.7882468e-14 1.9393093e-16\n",
      "  1.4785102e-15 2.5590941e-15 1.9253034e-13 1.5440899e-15 1.1651669e-15\n",
      "  3.6843379e-14 1.5613788e-16 1.0808432e-15 3.7490881e-14 3.3530892e-16\n",
      "  2.8475232e-15 8.1833505e-16 6.1468408e-16 1.9403214e-14 7.4014152e-14\n",
      "  1.6838225e-15 1.0562774e-14 9.7853422e-15 9.9614971e-14 1.7576784e-14\n",
      "  4.7960435e-14 3.6519511e-18 1.6491527e-14 1.8973866e-16 3.3257914e-15\n",
      "  1.6187287e-16 1.2534886e-16 7.3092269e-15 4.2330993e-14 1.7749079e-13\n",
      "  6.0452906e-16 2.5681766e-17 1.7352337e-14 4.7646418e-18 5.8240712e-14\n",
      "  6.0988693e-15 6.5052686e-14 9.8401003e-16 8.9339758e-18 1.9158102e-15\n",
      "  2.9394221e-18 1.6542049e-15 1.3873901e-16 4.9179017e-15 9.1416634e-16\n",
      "  1.3629770e-15 3.4871931e-16 1.7137406e-16 2.7045185e-16 4.6541316e-16\n",
      "  1.3639815e-14 6.4334172e-14 3.4063198e-17 3.0121533e-15 7.1238029e-15\n",
      "  8.7588802e-16 6.8834530e-16 3.7400848e-16 3.3523440e-18]]\n"
     ]
    }
   ],
   "source": [
    "MODEL = tf.keras.models.load_model(\"./models/3\")\n",
    "pred = MODEL.predict(img_batch)\n",
    "print(pred)"
   ]
  },
  {
   "cell_type": "code",
   "execution_count": 39,
   "id": "9a014aa4-804d-4936-9f74-bb30c4404f3c",
   "metadata": {},
   "outputs": [
    {
     "data": {
      "text/plain": [
       "<tf.Tensor: shape=(64,), dtype=float32, numpy=\n",
       "array([0.04136256, 0.0152165 , 0.01521647, 0.01521647, 0.01521647,\n",
       "       0.01521647, 0.01521647, 0.01521647, 0.01521647, 0.01521647,\n",
       "       0.01521647, 0.01521647, 0.01521647, 0.01521647, 0.01521647,\n",
       "       0.01521647, 0.01521647, 0.01521647, 0.01521647, 0.01521647,\n",
       "       0.01521647, 0.01521647, 0.01521647, 0.01521647, 0.01521647,\n",
       "       0.01521647, 0.01521647, 0.01521647, 0.01521647, 0.01521647,\n",
       "       0.01521647, 0.01521647, 0.01521647, 0.01521647, 0.01521647,\n",
       "       0.01521647, 0.01521647, 0.01521647, 0.01521647, 0.01521647,\n",
       "       0.01521647, 0.01521647, 0.01521647, 0.01521647, 0.01521647,\n",
       "       0.01521647, 0.01521647, 0.01521647, 0.01521647, 0.01521647,\n",
       "       0.01521647, 0.01521647, 0.01521647, 0.01521647, 0.01521647,\n",
       "       0.01521647, 0.01521647, 0.01521647, 0.01521647, 0.01521647,\n",
       "       0.01521647, 0.01521647, 0.01521647, 0.01521647], dtype=float32)>"
      ]
     },
     "execution_count": 39,
     "metadata": {},
     "output_type": "execute_result"
    }
   ],
   "source": [
    "score = tf.nn.softmax(pred[0])\n",
    "score"
   ]
  },
  {
   "cell_type": "code",
   "execution_count": 44,
   "id": "e190ae53-0ac6-43d1-920a-bff09babb0c1",
   "metadata": {},
   "outputs": [],
   "source": [
    "class_names = [\"Early Blight\", \"Late Blight\", \"Healthy\"]"
   ]
  },
  {
   "cell_type": "code",
   "execution_count": 47,
   "id": "a83a64f1-4dce-4b73-8adc-c40c6b1c1c47",
   "metadata": {},
   "outputs": [
    {
     "name": "stdout",
     "output_type": "stream",
     "text": [
      "This image most likely belongs to Early Blight with a 99.96 percent confidence.\n"
     ]
    }
   ],
   "source": [
    "print(\n",
    "    \"This image most likely belongs to {} with a {:.2f} percent confidence.\"\n",
    "    .format(class_names[np.argmax(score)], 100 - np.max(score))\n",
    ")"
   ]
  },
  {
   "cell_type": "code",
   "execution_count": 43,
   "id": "30147ec0-9316-4cfa-8cc5-66b25b1b9ceb",
   "metadata": {},
   "outputs": [
    {
     "data": {
      "text/plain": [
       "0"
      ]
     },
     "execution_count": 43,
     "metadata": {},
     "output_type": "execute_result"
    }
   ],
   "source": [
    "np.argmax(score)"
   ]
  },
  {
   "cell_type": "code",
   "execution_count": 46,
   "id": "3c1fa43f-e011-4819-8f92-654172c89557",
   "metadata": {},
   "outputs": [
    {
     "data": {
      "text/plain": [
       "0.04136256"
      ]
     },
     "execution_count": 46,
     "metadata": {},
     "output_type": "execute_result"
    }
   ],
   "source": [
    "np.max(score)"
   ]
  }
 ],
 "metadata": {
  "kernelspec": {
   "display_name": "Python 3 (ipykernel)",
   "language": "python",
   "name": "python3"
  },
  "language_info": {
   "codemirror_mode": {
    "name": "ipython",
    "version": 3
   },
   "file_extension": ".py",
   "mimetype": "text/x-python",
   "name": "python",
   "nbconvert_exporter": "python",
   "pygments_lexer": "ipython3",
   "version": "3.9.7"
  }
 },
 "nbformat": 4,
 "nbformat_minor": 5
}
